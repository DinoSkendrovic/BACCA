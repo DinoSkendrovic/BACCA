{
  "metadata": {
    "kernelspec": {
      "name": "python",
      "display_name": "Python (Pyodide)",
      "language": "python"
    },
    "language_info": {
      "codemirror_mode": {
        "name": "python",
        "version": 3
      },
      "file_extension": ".py",
      "mimetype": "text/x-python",
      "name": "python",
      "nbconvert_exporter": "python",
      "pygments_lexer": "ipython3",
      "version": "3.8"
    }
  },
  "nbformat_minor": 4,
  "nbformat": 4,
  "cells": [
    {
      "cell_type": "code",
      "source": "from scipy.optimize import curve_fit\nimport numpy as np\nimport matplotlib.pyplot as plt\nimport pandas as pd\n\n\ndef Single_Substrate_Michaelis_Menten(cA, Vm, Km):\n    SA=Vm*cA/(Km+cA)\n    return SA\n\n \ncA_exp=[0, 0.25, 0.5, 1, 1.5, 2, 3, 7, 10, 15, 20, 30, 40, 50, 70, 100]\nSA_exp=[0.0000, 0.0457, 0.1218, 0.2200, 0.2329, 0.3336, 0.3229, 0.4225, 0.4468, 0.4882, 0.5020, 0.5025, 0.5010,0.5030, 0.5027, 0.5020]\n\n\ninitial_guess = [0.1, 0.1]\noptimized_params, covariance = curve_fit(Single_Substrate_Michaelis_Menten, cA_exp, SA_exp)\nestimated_Vm, estimated_Km = optimized_params\nst_dev_Vm, st_dev_Km = np.sqrt(np.diag(covariance))\n\nprint(\"Estimated Vm:\", estimated_Vm)\nprint(\"St.dev Vm:\", st_dev_Vm)\nprint(\"Estimated Km:\", estimated_Km)\nprint(\"St.dev Km:\", st_dev_Km)\n\n\n#Simulation of kinetic curve\ncA_sim = np.linspace(0,120,120)\nSA_sim = Single_Substrate_Michaelis_Menten(cA_sim, *optimized_params)\n\n#Simulation data print\ndf = pd.DataFrame({'cA': cA_sim, 'SA': SA_sim})\npd.set_option('display.max_rows', None)\nprint(df)\n\n#Graph construction\nplt.scatter(cA_exp, SA_exp, label='Experimental Data', color='black')\nplt.plot(cA_sim, SA_sim, label='Fitted Curve', color='black')\nplt.xlabel('Substrate Concentration [mM]')\nplt.ylabel('Specific Activity [U/mg]')\nplt.xlim(0, max(cA_sim))\nplt.ylim(0, max(SA_sim)+0.05)\nplt.title('Single substrate Michaelis Menten kinetics')\nplt.legend()\nplt.show()\n",
      "metadata": {
        "trusted": true
      },
      "outputs": [],
      "execution_count": null
    }
  ]
}